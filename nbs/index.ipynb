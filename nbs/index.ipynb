{
 "cells": [
  {
   "cell_type": "code",
   "execution_count": null,
   "metadata": {},
   "outputs": [],
   "source": [
    "#hide\n",
    "from stack.imports import *"
   ]
  },
  {
   "cell_type": "markdown",
   "metadata": {},
   "source": [
    "# Stack\n",
    "\n",
    "This is just a demonstration that I can get a few things put together and they still make sense to me. Looking for the bigger picture.\n",
    "\n",
    "* nbdev to get documentation, tests, and library code out of Jupyter\n",
    "* Docker + Flask + gunicorn to serve a micro service\n",
    "* DVC + git for version control and (at least) a training pipeline\n",
    "\n",
    "## Tasks\n",
    "\n",
    "### A\n",
    "\n",
    "* Get the basic organization working\n",
    "* Export some library code to mimic a model/use a really basic one\n",
    "* Create wrappers for the service\n",
    "* Copy in the Docker tools\n",
    "* Create a Flask endpoint\n",
    "* Run the Docker container locally\n",
    "\n",
    "### B\n",
    "\n",
    "* Add DVC and create a training pipeline\n",
    "* Add MinIO and store objects locally\n",
    "* Import and store better training data\n",
    "* Create and store a versioned model\n",
    "\n",
    "### C\n",
    "\n",
    "* Introduce PostgreSQL and Redis\n",
    "* Convert requests to features\n",
    "* Use model preprocessing in the service loop\n",
    "* Create a servicing pipeline\n"
   ]
  },
  {
   "cell_type": "markdown",
   "metadata": {},
   "source": [
    "## How to use"
   ]
  },
  {
   "cell_type": "markdown",
   "metadata": {},
   "source": [
    "Fill me in please! Don't forget code examples:"
   ]
  },
  {
   "cell_type": "code",
   "execution_count": null,
   "metadata": {},
   "outputs": [
    {
     "data": {
      "text/plain": [
       "2"
      ]
     },
     "execution_count": null,
     "metadata": {},
     "output_type": "execute_result"
    }
   ],
   "source": [
    "1+1"
   ]
  },
  {
   "cell_type": "code",
   "execution_count": null,
   "metadata": {},
   "outputs": [],
   "source": []
  }
 ],
 "metadata": {
  "kernelspec": {
   "display_name": "Python 3",
   "language": "python",
   "name": "python3"
  }
 },
 "nbformat": 4,
 "nbformat_minor": 2
}
